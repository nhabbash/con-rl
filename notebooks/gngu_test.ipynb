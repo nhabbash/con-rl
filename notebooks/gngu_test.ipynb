{
 "metadata": {
  "language_info": {
   "codemirror_mode": {
    "name": "ipython",
    "version": 3
   },
   "file_extension": ".py",
   "mimetype": "text/x-python",
   "name": "python",
   "nbconvert_exporter": "python",
   "pygments_lexer": "ipython3",
   "version": "3.8.3-final"
  },
  "orig_nbformat": 2,
  "kernelspec": {
   "name": "Python 3.8.3 64-bit ('pyconrl-env': conda)",
   "display_name": "Python 3.8.3 64-bit ('pyconrl-env': conda)",
   "metadata": {
    "interpreter": {
     "hash": "0b1e480186f336184937ead83e4835efea9f5a384ed1a355480481c093d1f126"
    }
   }
  }
 },
 "nbformat": 4,
 "nbformat_minor": 2,
 "cells": [
  {
   "cell_type": "code",
   "execution_count": 12,
   "metadata": {},
   "outputs": [
    {
     "output_type": "stream",
     "name": "stdout",
     "text": [
      "The autoreload extension is already loaded. To reload it, use:\n  %reload_ext autoreload\n"
     ]
    }
   ],
   "source": [
    "%load_ext autoreload\n",
    "%autoreload 2"
   ]
  },
  {
   "cell_type": "code",
   "execution_count": 13,
   "metadata": {},
   "outputs": [
    {
     "output_type": "stream",
     "name": "stdout",
     "text": [
      "/home/nassim/dev\n"
     ]
    }
   ],
   "source": [
    "%cd .."
   ]
  },
  {
   "cell_type": "code",
   "execution_count": 14,
   "metadata": {},
   "outputs": [],
   "source": [
    "from gngu import GrowingNeuralGas\n",
    "import graph_tool.all as gt\n",
    "import numpy as np\n",
    "from sklearn import datasets\n",
    "from sklearn.preprocessing import StandardScaler"
   ]
  },
  {
   "cell_type": "code",
   "execution_count": 15,
   "metadata": {},
   "outputs": [],
   "source": [
    "n_samples = 2000\n",
    "#X, y = datasets.make_blobs(n_samples=n_samples, random_state=8)\n",
    "X, y = datasets.make_moons(n_samples=n_samples, noise=.05)\n",
    "#data = datasets.make_circles(n_samples=n_samples, factor=.5, noise=.05)\n",
    "\n",
    "X = StandardScaler().fit_transform(X)\n"
   ]
  },
  {
   "cell_type": "code",
   "execution_count": 16,
   "metadata": {},
   "outputs": [],
   "source": [
    "#gngu = GrowingNeuralGas()\n",
    "gngu = GrowingNeuralGas(e_w=0.1, e_n=0.006, max_age=50, l=10, a=0.5, b=0.995)\n",
    "\n",
    "for j in range(10):\n",
    "    for i in range(n_samples):\n",
    "        gngu.fit(X[i])\n",
    "    "
   ]
  },
  {
   "cell_type": "code",
   "execution_count": 17,
   "metadata": {},
   "outputs": [],
   "source": [
    "import matplotlib.pyplot as plt\n"
   ]
  },
  {
   "cell_type": "code",
   "execution_count": 18,
   "metadata": {},
   "outputs": [
    {
     "output_type": "execute_result",
     "data": {
      "text/plain": [
       "<VertexPropertyMap object with value type 'vector<double>', for Graph 0x7fb2c8cc5130, at 0x7fb2c8cee1c0>"
      ]
     },
     "metadata": {},
     "execution_count": 18
    }
   ],
   "source": [
    "fig, ax = plt.subplots()\n",
    "\n",
    "plt.scatter(X[:, 0], X[:, 1], marker='o', c=y, s=25, edgecolor='k', zorder=-2)\n",
    "gt.graph_draw(gngu.g, pos=gngu.g.vp.pos, output_size=(200, 200), edge_color=\"green\", vertex_size=0.2, vertex_pen_width=0.001, edge_pen_width=0.01, mplfig=ax)\n"
   ]
  }
 ]
}