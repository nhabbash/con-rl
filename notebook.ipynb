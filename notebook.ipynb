{
 "metadata": {
  "language_info": {
   "codemirror_mode": {
    "name": "ipython",
    "version": 3
   },
   "file_extension": ".py",
   "mimetype": "text/x-python",
   "name": "python",
   "nbconvert_exporter": "python",
   "pygments_lexer": "ipython3",
   "version": "3.8.5-final"
  },
  "orig_nbformat": 2,
  "kernelspec": {
   "name": "Python 3.8.5 64-bit ('pyconrl-env': conda)",
   "display_name": "Python 3.8.5 64-bit ('pyconrl-env': conda)",
   "metadata": {
    "interpreter": {
     "hash": "0b1e480186f336184937ead83e4835efea9f5a384ed1a355480481c093d1f126"
    }
   }
  }
 },
 "nbformat": 4,
 "nbformat_minor": 2,
 "cells": [
  {
   "cell_type": "code",
   "execution_count": 1,
   "metadata": {},
   "outputs": [],
   "source": [
    "from graph_tool.all import *"
   ]
  },
  {
   "cell_type": "code",
   "execution_count": 2,
   "metadata": {},
   "outputs": [],
   "source": [
    "g = Graph(directed=False)\n",
    "g.ep.edge_age = g.new_edge_property(\"int\")\n",
    "g.vp.node_utility = g.new_vertex_property(\"float\")\n",
    "g.vp.node_error = g.new_vertex_property(\"float\")\n",
    "g.vp.node_action = g.new_vertex_property(\"string\")\n",
    "g.vp.pos = g.new_vertex_property(\"vector<double>\")"
   ]
  },
  {
   "cell_type": "code",
   "execution_count": 3,
   "metadata": {},
   "outputs": [
    {
     "output_type": "stream",
     "name": "stdout",
     "text": [
      "node_action      (vertex)  (type: string)\nnode_error       (vertex)  (type: double)\nnode_utility     (vertex)  (type: double)\npos              (vertex)  (type: vector<double>)\nedge_age         (edge)    (type: int32_t)\n"
     ]
    }
   ],
   "source": [
    "g.list_properties()"
   ]
  }
 ]
}