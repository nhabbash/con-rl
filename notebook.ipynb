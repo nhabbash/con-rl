{
 "metadata": {
  "language_info": {
   "codemirror_mode": {
    "name": "ipython",
    "version": 3
   },
   "file_extension": ".py",
   "mimetype": "text/x-python",
   "name": "python",
   "nbconvert_exporter": "python",
   "pygments_lexer": "ipython3",
   "version": "3.8.3-final"
  },
  "orig_nbformat": 2,
  "kernelspec": {
   "name": "Python 3.8.3 64-bit ('pyconrl-env': conda)",
   "display_name": "Python 3.8.3 64-bit ('pyconrl-env': conda)",
   "metadata": {
    "interpreter": {
     "hash": "0b1e480186f336184937ead83e4835efea9f5a384ed1a355480481c093d1f126"
    }
   }
  }
 },
 "nbformat": 4,
 "nbformat_minor": 2,
 "cells": [
  {
   "cell_type": "code",
   "execution_count": 34,
   "metadata": {},
   "outputs": [],
   "source": [
    "%load_ext autoreload\n",
    "%autoreload 2"
   ]
  },
  {
   "cell_type": "code",
   "execution_count": 52,
   "metadata": {},
   "outputs": [],
   "source": [
    "from gngu import GNGU\n",
    "from graph_tool.all import *\n",
    "\n",
    "f"
   ]
  },
  {
   "cell_type": "code",
   "execution_count": 59,
   "metadata": {},
   "outputs": [],
   "source": [
    "gngu = GNGU()\n",
    "gngu._update(s=[0,1])\n",
    "gngu._update(s=[0,2])"
   ]
  },
  {
   "cell_type": "code",
   "execution_count": 65,
   "metadata": {},
   "outputs": [
    {
     "output_type": "display_data",
     "data": {
      "image/png": "[encoded data removed]",
      "text/plain": "<IPython.core.display.Image object>"
     },
     "metadata": {
      "image/png": {
       "width": 20,
       "height": 100
      }
     }
    },
    {
     "output_type": "execute_result",
     "data": {
      "text/plain": [
       "<VertexPropertyMap object with value type 'vector<double>', for Graph 0x7f279ca40070, at 0x7f279ca40af0>"
      ]
     },
     "metadata": {},
     "execution_count": 65
    }
   ],
   "source": [
    "graph_draw(gngu.g, vertex_text=gngu.g.vertex_index, pos=gngu.g.vp.pos,output_size=(100, 100))\n",
    "#graph_draw(g, vertex_text=g.vertex_index, output_size=(100, 100), edge_text=g.ep.age)\n",
    "\n"
   ]
  },
  {
   "cell_type": "code",
   "execution_count": null,
   "metadata": {},
   "outputs": [],
   "source": [
    "from sklearn import datasets\n",
    "from sklearn.preprocessing import StandardScaler\n",
    "import os\n",
    "import shutil\n",
    "\n",
    "    n_samples = 2000\n",
    "    dataset_type = 'moons'\n",
    "    data = None\n",
    "    print('Preparing data...')\n",
    "    if dataset_type == 'blobs':\n",
    "        data = datasets.make_blobs(n_samples=n_samples, random_state=8)\n",
    "    elif dataset_type == 'moons':\n",
    "        data = datasets.make_moons(n_samples=n_samples, noise=.05)\n",
    "    elif dataset_type == 'circles':\n",
    "        data = datasets.make_circles(n_samples=n_samples, factor=.5, noise=.05)\n",
    "    data = StandardScaler().fit_transform(data[0])\n",
    "    print('Done.')\n",
    "    print('Fitting neural network...')\n",
    "    gng = GrowingNeuralGas(data)\n",
    "    gng.fit_network(e_b=0.1, e_n=0.006, a_max=10, l=200, a=0.5, d=0.995, passes=8, plot_evolution=True)\n",
    "    print('Found %d clusters.' % gng.number_of_clusters())\n",
    "    gng.plot_clusters(gng.cluster_data())"
   ]
  }
 ]
}